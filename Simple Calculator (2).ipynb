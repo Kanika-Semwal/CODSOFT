{
 "cells": [
  {
   "cell_type": "code",
   "execution_count": 2,
   "id": "2e6db30b-cd27-40d4-95c7-8bd86a624689",
   "metadata": {},
   "outputs": [
    {
     "name": "stdout",
     "output_type": "stream",
     "text": [
      "Simple Calculator\n",
      "----------------\n"
     ]
    },
    {
     "name": "stdin",
     "output_type": "stream",
     "text": [
      "Enter the first number:  10\n",
      "Enter the second number:  69\n"
     ]
    },
    {
     "name": "stdout",
     "output_type": "stream",
     "text": [
      "Choose an operation:\n",
      "1. Addition\n",
      "2. Subtraction\n",
      "3. Multiplication\n",
      "4. Division\n"
     ]
    },
    {
     "name": "stdin",
     "output_type": "stream",
     "text": [
      "Enter your choice (1/2/3/4):  2\n"
     ]
    },
    {
     "name": "stdout",
     "output_type": "stream",
     "text": [
      "Result: 10.0 - 69.0 = -59.0\n"
     ]
    }
   ],
   "source": [
    "# calculator.py\n",
    "\n",
    "def add(x, y):\n",
    "    return x + y\n",
    "\n",
    "def subtract(x, y):\n",
    "    return x - y\n",
    "\n",
    "def multiply(x, y):\n",
    "    return x * y\n",
    "\n",
    "def divide(x, y):\n",
    "    if y == 0:\n",
    "        return \"Error: Division by zero!\"\n",
    "    return x / y\n",
    "\n",
    "def calculator():\n",
    "    print(\"Simple Calculator\")\n",
    "    print(\"----------------\")\n",
    "\n",
    "    num1 = float(input(\"Enter the first number: \"))\n",
    "    num2 = float(input(\"Enter the second number: \"))\n",
    "\n",
    "    print(\"Choose an operation:\")\n",
    "    print(\"1. Addition\")\n",
    "    print(\"2. Subtraction\")\n",
    "    print(\"3. Multiplication\")\n",
    "    print(\"4. Division\")\n",
    "\n",
    "    operation = int(input(\"Enter your choice (1/2/3/4): \"))\n",
    "\n",
    "    if operation == 1:\n",
    "        result = add(num1, num2)\n",
    "    elif operation == 2:\n",
    "        result = subtract(num1, num2)\n",
    "    elif operation == 3:\n",
    "        result = multiply(num1, num2)\n",
    "    elif operation == 4:\n",
    "        result = divide(num1, num2)\n",
    "    else:\n",
    "        result = \"Error: Invalid operation choice!\"\n",
    "\n",
    "    print(f\"Result: {num1} {get_operator(operation)} {num2} = {result}\")\n",
    "\n",
    "def get_operator(operation):\n",
    "    if operation == 1:\n",
    "        return \"+\"\n",
    "    elif operation == 2:\n",
    "        return \"-\"\n",
    "    elif operation == 3:\n",
    "        return \"*\"\n",
    "    elif operation == 4:\n",
    "        return \"/\"\n",
    "\n",
    "calculator()"
   ]
  },
  {
   "cell_type": "code",
   "execution_count": null,
   "id": "6fec4b9f-cbd6-40e0-9a58-0d890b820fb9",
   "metadata": {},
   "outputs": [],
   "source": []
  }
 ],
 "metadata": {
  "kernelspec": {
   "display_name": "Python 3 (ipykernel)",
   "language": "python",
   "name": "python3"
  },
  "language_info": {
   "codemirror_mode": {
    "name": "ipython",
    "version": 3
   },
   "file_extension": ".py",
   "mimetype": "text/x-python",
   "name": "python",
   "nbconvert_exporter": "python",
   "pygments_lexer": "ipython3",
   "version": "3.11.7"
  }
 },
 "nbformat": 4,
 "nbformat_minor": 5
}
