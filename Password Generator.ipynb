{
 "cells": [
  {
   "cell_type": "code",
   "execution_count": null,
   "id": "96847b7c-6d8c-4925-9101-bf7db601428f",
   "metadata": {},
   "outputs": [
    {
     "name": "stdout",
     "output_type": "stream",
     "text": [
      "Password Generator\n",
      "----------------\n"
     ]
    }
   ],
   "source": [
    "# password_generator.py\n",
    "\n",
    "import random\n",
    "import string\n",
    "\n",
    "def generate_password(length, use_uppercase, use_numbers, use_special_chars):\n",
    "    characters = string.ascii_lowercase\n",
    "\n",
    "    if use_uppercase:\n",
    "        characters += string.ascii_uppercase\n",
    "    if use_numbers:\n",
    "        characters += string.digits\n",
    "    if use_special_chars:\n",
    "        characters += string.punctuation\n",
    "\n",
    "    password = ''.join(random.choice(characters) for _ in range(length))\n",
    "    return password\n",
    "\n",
    "def main():\n",
    "    print(\"Password Generator\")\n",
    "    print(\"----------------\")\n",
    "\n",
    "    length = int(input(\"Enter the desired password length: \"))\n",
    "\n",
    "    use_uppercase = input(\"Include uppercase letters? (y/n): \").lower() == 'y'\n",
    "    use_numbers = input(\"Include numbers? (y/n): \").lower() == 'y'\n",
    "    use_special_chars = input(\"Include special characters? (y/n): \").lower() == 'y'\n",
    "\n",
    "    password = generate_password(length, use_uppercase, use_numbers, use_special_chars)\n",
    "\n",
    "    print(f\"Generated Password: {password}\")\n",
    "\n",
    "if __name__ == \"__main__\":\n",
    "    main()"
   ]
  },
  {
   "cell_type": "code",
   "execution_count": null,
   "id": "644fdab7-b825-414a-9767-fca24b81402c",
   "metadata": {},
   "outputs": [],
   "source": []
  }
 ],
 "metadata": {
  "kernelspec": {
   "display_name": "Python 3 (ipykernel)",
   "language": "python",
   "name": "python3"
  },
  "language_info": {
   "codemirror_mode": {
    "name": "ipython",
    "version": 3
   },
   "file_extension": ".py",
   "mimetype": "text/x-python",
   "name": "python",
   "nbconvert_exporter": "python",
   "pygments_lexer": "ipython3",
   "version": "3.11.7"
  }
 },
 "nbformat": 4,
 "nbformat_minor": 5
}
