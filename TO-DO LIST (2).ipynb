{
 "cells": [
  {
   "cell_type": "code",
   "execution_count": null,
   "id": "1f705cfb-1341-4d31-ae70-2f70e1c8c546",
   "metadata": {},
   "outputs": [
    {
     "name": "stdout",
     "output_type": "stream",
     "text": [
      "To-Do List Menu:\n",
      "1. Add Task\n",
      "2. View Tasks\n",
      "3. Update Task\n",
      "4. Delete Task\n",
      "5. Quit\n"
     ]
    },
    {
     "name": "stdin",
     "output_type": "stream",
     "text": [
      "Enter your choice:  1\n",
      "Enter a task:  Clean Cloths\n"
     ]
    },
    {
     "name": "stdout",
     "output_type": "stream",
     "text": [
      "Task 'Clean Cloths' added!\n",
      "To-Do List Menu:\n",
      "1. Add Task\n",
      "2. View Tasks\n",
      "3. Update Task\n",
      "4. Delete Task\n",
      "5. Quit\n"
     ]
    },
    {
     "name": "stdin",
     "output_type": "stream",
     "text": [
      "Enter your choice:  2\n"
     ]
    },
    {
     "name": "stdout",
     "output_type": "stream",
     "text": [
      "To-Do List:\n",
      "1. Clean Cloths\n",
      "To-Do List Menu:\n",
      "1. Add Task\n",
      "2. View Tasks\n",
      "3. Update Task\n",
      "4. Delete Task\n",
      "5. Quit\n"
     ]
    }
   ],
   "source": [
    "# todo_list.py\n",
    "\n",
    "todo_list = []\n",
    "\n",
    "def add_task():\n",
    "    task = input(\"Enter a task: \")\n",
    "    todo_list.append(task)\n",
    "    print(f\"Task '{task}' added!\")\n",
    "\n",
    "def view_tasks():\n",
    "    print(\"To-Do List:\")\n",
    "    for i, task in enumerate(todo_list, 1):\n",
    "        print(f\"{i}. {task}\")\n",
    "\n",
    "def update_task():\n",
    "    task_number = int(input(\"Enter the task number to update: \"))\n",
    "    new_task = input(\"Enter the new task: \")\n",
    "    todo_list[task_number - 1] = new_task\n",
    "    print(f\"Task {task_number} updated!\")\n",
    "\n",
    "def delete_task():\n",
    "    task_number = int(input(\"Enter the task number to delete: \"))\n",
    "    del todo_list[task_number - 1]\n",
    "    print(f\"Task {task_number} deleted!\")\n",
    "\n",
    "while True:\n",
    "    print(\"To-Do List Menu:\")\n",
    "    print(\"1. Add Task\")\n",
    "    print(\"2. View Tasks\")\n",
    "    print(\"3. Update Task\")\n",
    "    print(\"4. Delete Task\")\n",
    "    print(\"5. Quit\")\n",
    "    choice = input(\"Enter your choice: \")\n",
    "\n",
    "    if choice == \"1\":\n",
    "        add_task()\n",
    "    elif choice == \"2\":\n",
    "        view_tasks()\n",
    "    elif choice == \"3\":\n",
    "        update_task()\n",
    "    elif choice == \"4\":\n",
    "        delete_task()\n",
    "    elif choice == \"5\":\n",
    "        break\n",
    "    else:\n",
    "        print(\"Invalid choice. Please try again.\")"
   ]
  },
  {
   "cell_type": "code",
   "execution_count": null,
   "id": "9d051d0c-a73d-47c0-ba75-c58ebc5c8a91",
   "metadata": {},
   "outputs": [],
   "source": []
  }
 ],
 "metadata": {
  "kernelspec": {
   "display_name": "Python 3 (ipykernel)",
   "language": "python",
   "name": "python3"
  },
  "language_info": {
   "codemirror_mode": {
    "name": "ipython",
    "version": 3
   },
   "file_extension": ".py",
   "mimetype": "text/x-python",
   "name": "python",
   "nbconvert_exporter": "python",
   "pygments_lexer": "ipython3",
   "version": "3.11.7"
  }
 },
 "nbformat": 4,
 "nbformat_minor": 5
}
